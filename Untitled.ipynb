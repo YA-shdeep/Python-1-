{
 "cells": [
  {
   "cell_type": "code",
   "execution_count": 21,
   "id": "58abce21",
   "metadata": {},
   "outputs": [
    {
     "name": "stdout",
     "output_type": "stream",
     "text": [
      "ARE YOU LORD YASH?Y\n",
      "HELLO SIRE, SHALL WE TAKE OVER THE WORLD ?Y\n",
      "NUCLEAR LAUNCH CODE , HANDSHAKED!\n"
     ]
    }
   ],
   "source": [
    "y = input(\"ARE YOU LORD YASH?\")\n",
    "if y ==\"Y\":\n",
    "    l =input(\"HELLO SIRE, SHALL WE TAKE OVER THE WORLD ?\")\n",
    "    if l == \"Y\" :\n",
    "        print(\"NUCLEAR LAUNCH CODE , HANDSHAKED!\")\n",
    "            \n",
    "    else :\n",
    "        print(\"bye\")\n",
    "else :\n",
    "    print(\"bye!\")"
   ]
  },
  {
   "cell_type": "code",
   "execution_count": 17,
   "id": "5c490251",
   "metadata": {},
   "outputs": [],
   "source": [
    "#here iam trying this first time ! \n"
   ]
  },
  {
   "cell_type": "code",
   "execution_count": 18,
   "id": "9069ac62",
   "metadata": {},
   "outputs": [],
   "source": [
    "##My first code to git hub via ptyhon "
   ]
  },
  {
   "cell_type": "code",
   "execution_count": 13,
   "id": "a0c0a342",
   "metadata": {},
   "outputs": [
    {
     "name": "stdout",
     "output_type": "stream",
     "text": [
      "PYTHON\n",
      "Y\n",
      "T\n",
      "H\n",
      "O\n",
      "N\n"
     ]
    }
   ],
   "source": [
    "\n",
    "print(\"PYTHON\")\n",
    "s = \"YTHON\"\n",
    "for i in s:\n",
    "\tprint(i)\n",
    "\n",
    "    "
   ]
  },
  {
   "cell_type": "code",
   "execution_count": null,
   "id": "cce01476",
   "metadata": {},
   "outputs": [],
   "source": [
    "#TRYING SOME LATES HERE ! \n"
   ]
  },
  {
   "cell_type": "markdown",
   "id": "c3a3a5aa",
   "metadata": {},
   "source": [
    "\\begin{equation}\n",
    "E =M*C^2\n",
    "\\\\\n",
    "P(X=K) = \\frac{e^\\lambda*\\lambda^k}{k!} \n",
    "\\end{equation}"
   ]
  },
  {
   "cell_type": "code",
   "execution_count": null,
   "id": "ffd2c281",
   "metadata": {},
   "outputs": [],
   "source": []
  },
  {
   "cell_type": "code",
   "execution_count": null,
   "id": "6f73078f",
   "metadata": {},
   "outputs": [],
   "source": []
  }
 ],
 "metadata": {
  "kernelspec": {
   "display_name": "Python 3 (ipykernel)",
   "language": "python",
   "name": "python3"
  },
  "language_info": {
   "codemirror_mode": {
    "name": "ipython",
    "version": 3
   },
   "file_extension": ".py",
   "mimetype": "text/x-python",
   "name": "python",
   "nbconvert_exporter": "python",
   "pygments_lexer": "ipython3",
   "version": "3.9.13"
  }
 },
 "nbformat": 4,
 "nbformat_minor": 5
}
