{
 "cells": [
  {
   "cell_type": "code",
   "execution_count": 21,
   "id": "1103b8e0",
   "metadata": {},
   "outputs": [
    {
     "name": "stdout",
     "output_type": "stream",
     "text": [
      "ARE YOU LORD YASH?Y\n",
      "HELLO SIRE, SHALL WE TAKE OVER THE WORLD ?Y\n",
      "NUCLEAR LAUNCH CODE , HANDSHAKED!\n"
     ]
    }
   ],
   "source": [
    "y = input(\"ARE YOU LORD YASH?\")\n",
    "if y ==\"Y\":\n",
    "    l =input(\"HELLO SIRE, SHALL WE TAKE OVER THE WORLD ?\")\n",
    "    if l == \"Y\" :\n",
    "        print(\"NUCLEAR LAUNCH CODE , HANDSHAKED!\")\n",
    "            \n",
    "    else :\n",
    "        print(\"bye\")\n",
    "else :\n",
    "    print(\"bye!\")"
   ]
  },
  {
   "cell_type": "code",
   "execution_count": 17,
   "id": "000cbc8c",
   "metadata": {},
   "outputs": [],
   "source": [
    "#here iam trying this first time ! \n"
   ]
  },
  {
   "cell_type": "code",
   "execution_count": 18,
   "id": "b4695107",
   "metadata": {},
   "outputs": [],
   "source": [
    "##My first code to git hub via ptyhon "
   ]
  },
  {
   "cell_type": "code",
   "execution_count": 13,
   "id": "7d85fe2f",
   "metadata": {},
   "outputs": [
    {
     "name": "stdout",
     "output_type": "stream",
     "text": [
      "PYTHON\n",
      "Y\n",
      "T\n",
      "H\n",
      "O\n",
      "N\n"
     ]
    }
   ],
   "source": [
    "\n",
    "print(\"PYTHON\")\n",
    "s = \"YTHON\"\n",
    "for i in s:\n",
    "\tprint(i)\n",
    "\n",
    "    "
   ]
  },
  {
   "cell_type": "code",
   "execution_count": null,
   "id": "04c8bad9",
   "metadata": {},
   "outputs": [],
   "source": [
    "#TRYING SOME LATES HERE ! \n"
   ]
  },
  {
   "cell_type": "markdown",
   "id": "dfe2c038",
   "metadata": {},
   "source": [
    "\\begin{equation}\n",
    "E =M*C^2\n",
    "\\\\\n",
    "P(X=K) = \\frac{e^\\lambda*\\lambda^k}{k!} \n",
    "\\end{equation}"
   ]
  },
  {
   "cell_type": "code",
   "execution_count": null,
   "id": "8696c729",
   "metadata": {},
   "outputs": [],
   "source": []
  },
  {
   "cell_type": "code",
   "execution_count": null,
   "id": "d0a5329c",
   "metadata": {},
   "outputs": [],
   "source": []
  }
 ],
 "metadata": {
  "kernelspec": {
   "display_name": "Python 3 (ipykernel)",
   "language": "python",
   "name": "python3"
  },
  "language_info": {
   "codemirror_mode": {
    "name": "ipython",
    "version": 3
   },
   "file_extension": ".py",
   "mimetype": "text/x-python",
   "name": "python",
   "nbconvert_exporter": "python",
   "pygments_lexer": "ipython3",
   "version": "3.9.13"
  }
 },
 "nbformat": 4,
 "nbformat_minor": 5
}
